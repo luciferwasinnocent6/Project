{
  "cells": [
    {
      "cell_type": "markdown",
      "metadata": {
        "id": "view-in-github",
        "colab_type": "text"
      },
      "source": [
        "<a href=\"https://colab.research.google.com/github/luciferwasinnocent6/Project/blob/main/Movie_recommendation_system.ipynb\" target=\"_parent\"><img src=\"https://colab.research.google.com/assets/colab-badge.svg\" alt=\"Open In Colab\"/></a>"
      ]
    },
    {
      "cell_type": "code",
      "execution_count": 1,
      "metadata": {
        "colab": {
          "base_uri": "https://localhost:8080/"
        },
        "id": "U8ITuPmfKe9y",
        "outputId": "b28e21e4-7a6e-4369-d213-99802c3c19cd"
      },
      "outputs": [
        {
          "output_type": "stream",
          "name": "stdout",
          "text": [
            "Requirement already satisfied: scikit-learn in /usr/local/lib/python3.11/dist-packages (1.6.1)\n",
            "Requirement already satisfied: numpy>=1.19.5 in /usr/local/lib/python3.11/dist-packages (from scikit-learn) (1.26.4)\n",
            "Requirement already satisfied: scipy>=1.6.0 in /usr/local/lib/python3.11/dist-packages (from scikit-learn) (1.13.1)\n",
            "Requirement already satisfied: joblib>=1.2.0 in /usr/local/lib/python3.11/dist-packages (from scikit-learn) (1.4.2)\n",
            "Requirement already satisfied: threadpoolctl>=3.1.0 in /usr/local/lib/python3.11/dist-packages (from scikit-learn) (3.5.0)\n"
          ]
        }
      ],
      "source": [
        "!pip install scikit-learn"
      ]
    },
    {
      "cell_type": "code",
      "execution_count": 2,
      "metadata": {
        "id": "aQLFijQNKxXp"
      },
      "outputs": [],
      "source": [
        "import numpy as np\n",
        "import pandas as pd\n",
        "import difflib\n",
        "from sklearn.feature_extraction.text import TfidfVectorizer\n",
        "from sklearn.metrics.pairwise import cosine_similarity"
      ]
    },
    {
      "cell_type": "code",
      "execution_count": 3,
      "metadata": {
        "id": "IqtrJCHfK0ZF"
      },
      "outputs": [],
      "source": [
        "# ✅ Load dataset (Ensure 'movies.csv' is uploaded in Colab)\n",
        "file_path = '/content/movies.csv'  # Change path if needed\n",
        "movies_data = pd.read_csv(file_path)\n"
      ]
    },
    {
      "cell_type": "code",
      "execution_count": 4,
      "metadata": {
        "colab": {
          "base_uri": "https://localhost:8080/"
        },
        "id": "0c3IjVbNK3ie",
        "outputId": "e0dbd96b-5c28-4d7f-d27b-73cc48f72fc7"
      },
      "outputs": [
        {
          "output_type": "stream",
          "name": "stdout",
          "text": [
            "Columns in dataset: Index(['index', 'budget', 'genres', 'homepage', 'id', 'keywords',\n",
            "       'original_language', 'original_title', 'overview', 'popularity',\n",
            "       'production_companies', 'production_countries', 'release_date',\n",
            "       'revenue', 'runtime', 'spoken_languages', 'status', 'tagline', 'title',\n",
            "       'vote_average', 'vote_count', 'cast', 'crew', 'director'],\n",
            "      dtype='object')\n",
            "Dataset Loaded Successfully!\n"
          ]
        }
      ],
      "source": [
        "# ✅ Display dataset info (for debugging)\n",
        "print(\"Columns in dataset:\", movies_data.columns)\n",
        "print(\"Dataset Loaded Successfully!\")"
      ]
    },
    {
      "cell_type": "code",
      "execution_count": 5,
      "metadata": {
        "id": "2GALB_2tK6AP"
      },
      "outputs": [],
      "source": [
        "# ✅ Selecting relevant features for recommendation\n",
        "selected_features = ['genres', 'keywords', 'tagline', 'cast', 'director']"
      ]
    },
    {
      "cell_type": "code",
      "execution_count": 6,
      "metadata": {
        "id": "s5pch_KXK-Tv"
      },
      "outputs": [],
      "source": [
        "# ✅ Handling missing values (Replace NaN with an empty string)\n",
        "for feature in selected_features:\n",
        "    if feature in movies_data.columns:  # Check if column exists\n",
        "        movies_data[feature] = movies_data[feature].fillna('')\n",
        "    else:\n",
        "        print(f\"Warning: Column '{feature}' not found in dataset!\")"
      ]
    },
    {
      "cell_type": "code",
      "execution_count": 7,
      "metadata": {
        "id": "ID5z0iaSK_5K"
      },
      "outputs": [],
      "source": [
        "# ✅ Combine all selected features into a single text column\n",
        "movies_data['combined_features'] = (\n",
        "    movies_data['genres'] + ' ' +\n",
        "    movies_data['keywords'] + ' ' +\n",
        "    movies_data['tagline'] + ' ' +\n",
        "    movies_data['cast'] + ' ' +\n",
        "    movies_data['director']\n",
        ")"
      ]
    },
    {
      "cell_type": "code",
      "execution_count": 8,
      "metadata": {
        "id": "xS76lbbpLCqQ"
      },
      "outputs": [],
      "source": [
        "# ✅ Convert all data into string format\n",
        "movies_data['combined_features'] = movies_data['combined_features'].astype(str)\n"
      ]
    },
    {
      "cell_type": "code",
      "execution_count": 9,
      "metadata": {
        "id": "pO9ayfhJLFuD"
      },
      "outputs": [],
      "source": [
        "# ✅ Convert text into numerical feature vectors using TF-IDF Vectorizer\n",
        "vectorizer = TfidfVectorizer()\n",
        "feature_vectors = vectorizer.fit_transform(movies_data['combined_features'])"
      ]
    },
    {
      "cell_type": "code",
      "execution_count": 10,
      "metadata": {
        "id": "YDQGsSL3LI3G"
      },
      "outputs": [],
      "source": [
        "# ✅ Calculate Cosine Similarity between movies\n",
        "similarity = cosine_similarity(feature_vectors)"
      ]
    },
    {
      "cell_type": "code",
      "execution_count": 11,
      "metadata": {
        "colab": {
          "base_uri": "https://localhost:8080/"
        },
        "id": "yOmuapaTLLpK",
        "outputId": "8d4276a1-fcba-48e8-b2ba-083663b37497"
      },
      "outputs": [
        {
          "output_type": "stream",
          "name": "stdout",
          "text": [
            "Cosine Similarity Matrix Created Successfully!\n"
          ]
        }
      ],
      "source": [
        "\n",
        "print(\"Cosine Similarity Matrix Created Successfully!\")"
      ]
    },
    {
      "cell_type": "code",
      "execution_count": 12,
      "metadata": {
        "id": "-GZokvjCLOUQ"
      },
      "outputs": [],
      "source": [
        "\n",
        "# ✅ Function to recommend movies based on user input\n",
        "def recommend_movies(movie_name, num_recommendations=5):\n",
        "    # Convert movie names to list\n",
        "    list_of_all_titles = movies_data['title'].tolist()"
      ]
    },
    {
      "cell_type": "code",
      "execution_count": 13,
      "metadata": {
        "colab": {
          "base_uri": "https://localhost:8080/"
        },
        "id": "d-r3ugavPR7t",
        "outputId": "e31b6ad9-b3ae-4a6d-c63a-6079f6222285"
      },
      "outputs": [
        {
          "output_type": "stream",
          "name": "stdout",
          "text": [
            "\n",
            "🔹 Enter a movie name for recommendations (or type 'exit' to quit): ironman\n",
            "\n",
            "🔎 Closest match found: Birdman\n",
            "\n",
            "🎬 Recommended Movies:\n",
            "✅ 21 Grams (Similarity Score: 0.30)\n",
            "   🎭 Genre: Drama Crime Thriller\n",
            "   🎬 Director: Alejandro Gonz\\u00e1lez I\\u00f1\\u00e1rritu\n",
            "   ⭐ Starring: Sean Penn Naomi Watts Benicio del Toro Danny Huston Carly Nahon\n",
            "\n",
            "✅ The Revenant (Similarity Score: 0.24)\n",
            "   🎭 Genre: Western Drama Adventure Thriller\n",
            "   🎬 Director: Alejandro Gonz\\u00e1lez I\\u00f1\\u00e1rritu\n",
            "   ⭐ Starring: Leonardo DiCaprio Tom Hardy Will Poulter Domhnall Gleeson Paul Anderson\n",
            "\n",
            "✅ Amores perros (Similarity Score: 0.23)\n",
            "   🎭 Genre: Drama Thriller\n",
            "   🎬 Director: Alejandro Gonz\\u00e1lez I\\u00f1\\u00e1rritu\n",
            "   ⭐ Starring: Gael Garc\\u00eda Bernal Vanessa Bauche Goya Toledo Alvaro Guerrero Emilio Echevarr\\u00eda\n",
            "\n",
            "✅ Babel (Similarity Score: 0.22)\n",
            "   🎭 Genre: Drama\n",
            "   🎬 Director: Alejandro Gonz\\u00e1lez I\\u00f1\\u00e1rritu\n",
            "   ⭐ Starring: Brad Pitt Cate Blanchett Gael Garc\\u00eda Bernal Rinko Kikuchi Adriana Barraza\n",
            "\n",
            "✅ Biutiful (Similarity Score: 0.17)\n",
            "   🎭 Genre: Drama\n",
            "   🎬 Director: Alejandro Gonz\\u00e1lez I\\u00f1\\u00e1rritu\n",
            "   ⭐ Starring: Javier Bardem Maricel \\u00c1lvarez Hanaa Bouchaib Guillermo Estrella Eduard Fern\\u00e1ndez\n",
            "\n",
            "\n",
            "🔹 Enter a movie name for recommendations (or type 'exit' to quit): exit\n",
            "👋 Thank you for using the Movie Recommender! Have a great day! 🎥🍿\n"
          ]
        }
      ],
      "source": [
        "# ✅ Function to recommend movies based on user input\n",
        "def recommend_movies(movie_name, num_recommendations=5):\n",
        "    # Convert movie names to a list\n",
        "    list_of_all_titles = movies_data['title'].tolist()\n",
        "\n",
        "    # Find the closest match for the user input\n",
        "    find_close_match = difflib.get_close_matches(movie_name, list_of_all_titles, n=1)\n",
        "\n",
        "    if find_close_match:  # ✅ Correct indentation\n",
        "        close_match = find_close_match[0]\n",
        "        print(f\"\\n🔎 Closest match found: {close_match}\")\n",
        "\n",
        "        # Get index of the matched movie\n",
        "        movie_index = movies_data[movies_data['title'] == close_match].index[0]\n",
        "\n",
        "        # Retrieve similarity scores for the selected movie\n",
        "        similarity_scores = list(enumerate(similarity[movie_index]))\n",
        "\n",
        "        # Sort movies based on similarity scores (excluding itself)\n",
        "        sorted_movies = sorted(similarity_scores, key=lambda x: x[1], reverse=True)[1:num_recommendations+1]\n",
        "\n",
        "        print(\"\\n🎬 Recommended Movies:\")\n",
        "        for index, score in sorted_movies:\n",
        "            recommended_title = movies_data.iloc[index]['title']\n",
        "            recommended_genre = movies_data.iloc[index]['genres']\n",
        "            recommended_director = movies_data.iloc[index]['director']\n",
        "            recommended_cast = movies_data.iloc[index]['cast']\n",
        "\n",
        "            print(f\"✅ {recommended_title} (Similarity Score: {score:.2f})\")\n",
        "            print(f\"   🎭 Genre: {recommended_genre}\")\n",
        "            print(f\"   🎬 Director: {recommended_director}\")\n",
        "            print(f\"   ⭐ Starring: {recommended_cast}\\n\")\n",
        "\n",
        "    else:  # ✅ Correct indentation\n",
        "        print(\"\\n❌ No similar movie found. Please try another name.\")\n",
        "\n",
        "# ✅ Continuous Recommendation Loop (Users can keep entering movie names)\n",
        "while True:\n",
        "    user_movie = input(\"\\n🔹 Enter a movie name for recommendations (or type 'exit' to quit): \")\n",
        "    if user_movie.lower() == 'exit':\n",
        "        print(\"👋 Thank you for using the Movie Recommender! Have a great day! 🎥🍿\")\n",
        "        break\n",
        "    recommend_movies(user_movie)\n"
      ]
    }
  ],
  "metadata": {
    "colab": {
      "provenance": [],
      "authorship_tag": "ABX9TyNbsG8PxBIdJTnYN+Yr24MJ",
      "include_colab_link": true
    },
    "kernelspec": {
      "display_name": "Python 3",
      "name": "python3"
    },
    "language_info": {
      "name": "python"
    }
  },
  "nbformat": 4,
  "nbformat_minor": 0
}